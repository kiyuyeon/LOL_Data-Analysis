{
 "cells": [
  {
   "cell_type": "code",
   "execution_count": 5,
   "metadata": {},
   "outputs": [],
   "source": [
    "import requests\n",
    "import json\n",
    "import time\n",
    "import pandas as pd\n",
    "from tqdm import tqdm\n",
    "api_key = 'RGAPI-3576e661-885e-49d1-9fcc-59a8b7db1a5d'"
   ]
  },
  {
   "cell_type": "code",
   "execution_count": 10,
   "metadata": {},
   "outputs": [
    {
     "name": "stdout",
     "output_type": "stream",
     "text": [
      "700\n"
     ]
    },
    {
     "name": "stderr",
     "output_type": "stream",
     "text": [
      " 14%|█▍        | 99/700 [00:25<02:30,  3.99it/s]"
     ]
    },
    {
     "name": "stdout",
     "output_type": "stream",
     "text": [
      "api cost full : infinite loop start\n",
      "loop location :  GT-UCOScCXRojCP_Z94AGeepApWbxYVZEKOKNchVtHf4r9M_FQKf0Subdg\n",
      "try 120 second wait time\n"
     ]
    },
    {
     "name": "stderr",
     "output_type": "stream",
     "text": [
      " 14%|█▍        | 100/700 [02:25<6:03:08, 36.31s/it]"
     ]
    },
    {
     "name": "stdout",
     "output_type": "stream",
     "text": [
      "200\n",
      "total wait time :  120.26932907104492\n",
      "recovery api cost\n"
     ]
    },
    {
     "name": "stderr",
     "output_type": "stream",
     "text": [
      " 28%|██▊       | 199/700 [02:51<02:05,  3.98it/s]  "
     ]
    },
    {
     "name": "stdout",
     "output_type": "stream",
     "text": [
      "api cost full : infinite loop start\n",
      "loop location :  i-CO6tAQ_on0BGJIGU0Vc5N8iDT3x_8pHi7TD26iJeUSCm10m6Ad3XF3zA\n",
      "try 120 second wait time\n"
     ]
    }
   ],
   "source": [
    "# # 마스터 등급 솔로 랭크 게임을 플레이한 플레이어의 summoner id 추출\n",
    "# url = 'https://kr.api.riotgames.com/lol/league/v4/grandmasterleagues/by-queue/RANKED_SOLO_5x5?api_key=' + api_key\n",
    "\n",
    "# summonerId = {}\n",
    "\n",
    "# r = requests.get(url)\n",
    "# r = r.json()[\"entries\"]\n",
    "\n",
    "# num = 0\n",
    "\n",
    "# for i in r:\n",
    "#     summonerId[i['summonerName']] = i['summonerId']\n",
    "#     num += 1\n",
    "# print(num)\n",
    "\n",
    "# summonerId를 통해 puuid 추출\n",
    "\n",
    "puuid = {}\n",
    "for i,j in zip(tqdm(summonerId.values()),summonerId.keys()):\n",
    "    url2 = 'https://kr.api.riotgames.com/lol/summoner/v4/summoners/' + i + '?api_key=' + api_key\n",
    "    r = requests.get(url2)\n",
    "\n",
    "    if r.status_code == 200: \n",
    "        pass\n",
    "\n",
    "    elif r.status_code == 429:\n",
    "        print('api cost full : infinite loop start')\n",
    "        print('loop location : ',i)\n",
    "        start_time = time.time()\n",
    "\n",
    "        while True:\n",
    "            if r.status_code == 429:\n",
    "                print('try 120 second wait time')\n",
    "                time.sleep(120)\n",
    "                \n",
    "                r = requests.get(url2)\n",
    "                print(r.status_code)\n",
    "            elif r.status_code == 200:\n",
    "                print('total wait time : ', time.time() - start_time)\n",
    "                print('recovery api cost')\n",
    "                break\n",
    "\n",
    "df_puuid = pd.DataFrame(puuid, index = [0])\n",
    "df_puuid = df_puuid.T\n",
    "df_puuid = df_puuid.reset_index()\n",
    "df_puuid.columns = ['id','puuid']\n"
   ]
  }
 ],
 "metadata": {
  "kernelspec": {
   "display_name": "Python 3",
   "language": "python",
   "name": "python3"
  },
  "language_info": {
   "codemirror_mode": {
    "name": "ipython",
    "version": 3
   },
   "file_extension": ".py",
   "mimetype": "text/x-python",
   "name": "python",
   "nbconvert_exporter": "python",
   "pygments_lexer": "ipython3",
   "version": "3.9.13"
  },
  "orig_nbformat": 4
 },
 "nbformat": 4,
 "nbformat_minor": 2
}
