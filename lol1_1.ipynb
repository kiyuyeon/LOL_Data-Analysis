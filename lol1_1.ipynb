{
 "cells": [
  {
   "cell_type": "code",
   "execution_count": 43,
   "metadata": {},
   "outputs": [],
   "source": [
    "import matplotlib.pyplot as plt\n",
    "import seaborn as sns # heatmap\n",
    "import pydotplus\n",
    "import os\n",
    "import pandas as pd\n",
    "import numpy as np\n",
    "import pickle\n",
    "import numpy as np\n",
    "import json\n",
    "import re \n",
    "import time\n",
    "import ast\n",
    "from pandas.io.json import _normalize\n",
    "import json\n",
    "\n",
    "# API 호출을 위해 requests 모듈을 사용\n",
    "import requests\n",
    "api_key = 'RGAPI-3576e661-885e-49d1-9fcc-59a8b7db1a5d'\n",
    "sohwan = \"https://kr.api.riotgames.com/lol/summoner/v4/summoners/by-name/\" +'hide on bush' +'?api_key=' + api_key\n",
    "r = requests.get(sohwan)\n",
    "r.json()['id'] #소환사의 고유 id\n",
    "\n",
    "tier_url = \"https://kr.api.riotgames.com/lol/league/v4/positions/by-summoner/\" + r.json()['id'] +'?api_key=' + api_key\n",
    "r2  = requests.get(tier_url)\n",
    "r2.json()\n",
    "\n",
    "apiDefault = {\n",
    "    'region': 'https://kr.api.riotgames.com',  # 한국서버를 대상으로 호출\n",
    "    'key': 'RGAPI-3576e661-885e-49d1-9fcc-59a8b7db1a5d',  # API KEY \n",
    "    'summonerName': 'ecrrd',  # 닉네임\n",
    "}"
   ]
  },
  {
   "cell_type": "code",
   "execution_count": 8,
   "metadata": {},
   "outputs": [],
   "source": [
    "challengerleagues_data = pd.read_csv('./챌린저데이터.csv', encoding='cp949') \n",
    "grandmasterleagues_data = pd.read_csv('./그마데이터.csv', encoding='cp949') \n",
    "masterleagues_data = pd.read_csv('./마스터데이터.csv', encoding='cp949') \n",
    "\n"
   ]
  },
  {
   "cell_type": "code",
   "execution_count": 14,
   "metadata": {},
   "outputs": [
    {
     "name": "stdout",
     "output_type": "stream",
     "text": [
      "실패\n",
      "실패\n",
      "실패\n",
      "실패\n"
     ]
    }
   ],
   "source": [
    "for i in range(len(challengerleagues_data)):\n",
    "    try:\n",
    "        sohwan = 'https://kr.api.riotgames.com/lol/summoner/v4/summoners/by-name/' + challengerleagues_data['summonerName'].iloc[i] + '?api_key=' + api_key \n",
    "        r = requests.get(sohwan)\n",
    "        \n",
    "        while r.status_code == 429:\n",
    "            print('429')\n",
    "            time.sleep(5)\n",
    "            sohwan = 'https://kr.api.riotgames.com/lol/summoner/v4/summoners/by-name/' + challengerleagues_data['summonerName'].iloc[i] + '?api_key=' + api_key \n",
    "            r = requests.get(sohwan)\n",
    "            \n",
    "        account_id = r.json()['accountId']\n",
    "        challengerleagues_data.iloc[i, -1] = account_id\n",
    "    \n",
    "    except:\n",
    "        print('실패')\n",
    "        pass"
   ]
  },
  {
   "cell_type": "code",
   "execution_count": 52,
   "metadata": {},
   "outputs": [
    {
     "data": {
      "text/plain": [
       "'yHw0AaNldBId5SGIObVO6fbAE9i_8eRPNI7q0NNzMOpzrfTCs_Ln_0wS'"
      ]
     },
     "execution_count": 52,
     "metadata": {},
     "output_type": "execute_result"
    }
   ],
   "source": [
    "account_id\n",
    "\n"
   ]
  },
  {
   "cell_type": "code",
   "execution_count": 51,
   "metadata": {},
   "outputs": [
    {
     "name": "stdout",
     "output_type": "stream",
     "text": [
      "           tier                                         summonerId   \n",
      "0    CHALLENGER    ltIblpzY5sbetiXxooc6fwzhpmUIDhToopiy8TAzcxiIivI  \\\n",
      "1    CHALLENGER   HtytmhHU0-QLlJTXLG8dTbLAr2pnB_HM4svmyqNbOubtfeZl   \n",
      "2    CHALLENGER  eFP9g-i9gOKJZWx1lETOkwX-LaIokN_6Rlr5l3IWqtq4JS...   \n",
      "3    CHALLENGER  0DFy7J0xSP0v9QmuE9k4Lmdc98W_su3cPbyo324l81Hbm6...   \n",
      "4    CHALLENGER    SQJ9J0-v0Dda7wWFG3v_NxttsIzbJ8Vq8P0AqswZ3c5nmTM   \n",
      "..          ...                                                ...   \n",
      "295  CHALLENGER  -uVKdr-MSnbK09Bapc6tHIbemg0FBHfJIqzvzIEFIhrHes...   \n",
      "296  CHALLENGER  TnNz82Eb4IwRp1EeFcU7DuZfI9nrVe7cpjYUcjiZJh94NG...   \n",
      "297  CHALLENGER     cnEQBnggi3XKQt2F3w-LlsAYLC2oHfogiIt18i6P3Iigfg   \n",
      "298  CHALLENGER  iQJPggLSJpG3sm58pwRlZPGGTgpZK_HPqrgoMWulxhjLrf...   \n",
      "299  CHALLENGER    Apr7Cp2ldjb-_zTB8ztIeadz8K54sEUe5XSv3YYs2Yx9RDA   \n",
      "\n",
      "         summonerName  leaguePoints  wins  losses  veteran  inactive   \n",
      "0             Sangchu           975   129      92    False     False  \\\n",
      "1           DRX Piero          1023   196     163    False     False   \n",
      "2    Playing GAmbling          1138   260     206     True     False   \n",
      "3          bobjenkins           925   198     148    False     False   \n",
      "4             준밧드쳐패는놈           914   690     646    False     False   \n",
      "..                ...           ...   ...     ...      ...       ...   \n",
      "295            hsyyds           950   153      78    False     False   \n",
      "296               분 과           948   166     126    False     False   \n",
      "297          쪼렙이다말로하자           895   460     426    False     False   \n",
      "298      daoxinwengu1          1009   298     261     True     False   \n",
      "299              kiln           901   176     152    False     False   \n",
      "\n",
      "     freshBlood                                          hotStreak  \n",
      "0         False  mmQEAxElLp9LAQPkraDb0uHrmwc4C4OfR8xYuORf-xvNk1...  \n",
      "1         False  o1CWkE5kymxE850bvbtkz28Q22tpWN0gjGg6Rhj94CmiFr...  \n",
      "2         False  lyxtcrRn4CR1Xom3g9fKl5L1Ds9bbFCN5KwX5l-e98VwqJ...  \n",
      "3         False  KHXeSP5-I0nafQoVpOQv3gRlcYmHuret-FHiROtYhPo8yL...  \n",
      "4          True  pjrvsQi0TLTVI5xTMJ_TVy0DTGIRJg5ktmjtEWrPeHd-oM...  \n",
      "..          ...                                                ...  \n",
      "295        True  84ft3RwAcpgjl9n4bYannbK4KjdP43EBEid5LfYKP86TUQ...  \n",
      "296        True  yc_KnyseJA9J5lsJnA2mwu-8AmCjdCUcWpZOUDpP3HRNwM...  \n",
      "297        True       L6quPHAlw4wy4TCDOCtZqcpuReVfmFEZDFz4_-tK3NCj  \n",
      "298       False  Of1z8AP68hSC2KxH60R0C587OpWLOmZEi98VqIBrc2w_7A...  \n",
      "299        True  yHw0AaNldBId5SGIObVO6fbAE9i_8eRPNI7q0NNzMOpzrf...  \n",
      "\n",
      "[300 rows x 10 columns]\n"
     ]
    }
   ],
   "source": [
    "print(challengerleagues_data)"
   ]
  }
 ],
 "metadata": {
  "kernelspec": {
   "display_name": "Python 3",
   "language": "python",
   "name": "python3"
  },
  "language_info": {
   "codemirror_mode": {
    "name": "ipython",
    "version": 3
   },
   "file_extension": ".py",
   "mimetype": "text/x-python",
   "name": "python",
   "nbconvert_exporter": "python",
   "pygments_lexer": "ipython3",
   "version": "3.9.13"
  },
  "orig_nbformat": 4
 },
 "nbformat": 4,
 "nbformat_minor": 2
}
